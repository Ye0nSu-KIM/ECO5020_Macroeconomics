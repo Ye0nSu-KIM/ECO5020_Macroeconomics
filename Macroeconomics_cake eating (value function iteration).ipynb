{
 "cells": [
  {
   "cell_type": "markdown",
   "metadata": {},
   "source": [
    "# Cake Eating Problem\n",
    "\n",
    "### <center> Setting </center>\n",
    "##### The Bellman Equation\n",
    "$$ V(x) = \\max_{0\\leq c \\leq x} ln(c) + \\beta V (x-c) $$\n",
    "$$ such\\ that\\ c+x'= x $$\n",
    "\n",
    "State variable : size of the cake $x$ at the start of any period\n",
    "\n",
    "Control variable : $c$\n",
    "\n",
    "Transition equation: $x' = x - c $"
   ]
  },
  {
   "cell_type": "markdown",
   "metadata": {},
   "source": [
    "# Some points\n",
    "\n",
    "The intertemporal problem is: how much to enjoy today and how much to leave for the future?\n",
    "\n",
    "• Delaying consumption is costly because of the discount factor.\n",
    "\n",
    "• But delaying some consumption is also attractive because 𝑢 is concave.\n",
    "\n",
    "The concavity of 𝑢 implies that the consumer gains value from consumption smoothing, which\n",
    "means spreading consumption out over time.\n",
    "\n",
    "\n",
    "\n"
   ]
  },
  {
   "cell_type": "markdown",
   "metadata": {},
   "source": [
    "First of all, we need to install some tools in order to show the value function iteration"
   ]
  },
  {
   "cell_type": "code",
   "execution_count": 1,
   "metadata": {},
   "outputs": [],
   "source": [
    "import numpy as np\n",
    "import matplotlib.pyplot as plt\n",
    "%matplotlib inline\n",
    "\n",
    "from interpolation import interp\n",
    "from scipy.optimize import minimize_scalar, bisect"
   ]
  },
  {
   "cell_type": "markdown",
   "metadata": {},
   "source": [
    "# Value function Iteration\n",
    "value function iteration can solve for \"approximation\" of true value function"
   ]
  },
  {
   "cell_type": "markdown",
   "metadata": {},
   "source": [
    "# Algorithm\n",
    "\n",
    "1. Initial guess : \n",
    "$$\n",
    "V_0(x) = 0 \\ \\forall\\  x\\in X\n",
    "$$\n",
    "2. Given $ V_0(x) $ solve:\n",
    "$$\n",
    "V_1(x) = max \\max_{0\\leq x' \\leq x} \\left\\{ln(x-x')+ \\beta V_1(x')\\right\\}\n",
    "$$\n",
    "\n",
    "3. Continue this process\n",
    "\n",
    "Given $ V_n $ solve: \n",
    "$$\n",
    "V_{n+1} (x) = max \\max_{0\\leq x' \\leq x} \\left\\{ln(x-x')+ \\beta V_n(x')\\right\\}\n",
    "$$\n",
    "\n",
    "#### <center> STOP when  $ |V_{n+1} - V_n| < \\epsilon\n",
    "$ </center>"
   ]
  },
  {
   "cell_type": "code",
   "execution_count": 2,
   "metadata": {},
   "outputs": [],
   "source": [
    "def maximize(g, a, b, args):\n",
    "    \"\"\"\n",
    "    Maximize the function g over the interval [a, b].\n",
    "\n",
    "    We use the fact that the maximizer of g on any interval is\n",
    "    also the minimizer of -g.  The tuple args collects any extra\n",
    "    arguments to g.\n",
    "\n",
    "    Returns the maximal value and the maximizer.\n",
    "    \"\"\"\n",
    "\n",
    "    objective = lambda x: -g(x, *args)\n",
    "    result = minimize_scalar(objective, bounds=(a, b), method='bounded')\n",
    "    maximizer, maximum = result.x, -result.fun\n",
    "    return maximizer, maximum"
   ]
  },
  {
   "cell_type": "code",
   "execution_count": 3,
   "metadata": {},
   "outputs": [],
   "source": [
    "class CakeEating:\n",
    "\n",
    "    def __init__(self,\n",
    "                 β=0.96,           # discount factor\n",
    "                 x_grid_min=1e-3,  # exclude zero for numerical stability\n",
    "                 x_grid_max=2.5,   # size of cake\n",
    "                 x_grid_size=120):\n",
    "\n",
    "        self.β = β\n",
    "\n",
    "        # Set up grid\n",
    "        self.x_grid = np.linspace(x_grid_min, x_grid_max, x_grid_size)\n",
    "\n",
    "    # Utility function\n",
    "    def u(self,c): #효용함수\n",
    "        return np.log(c)\n",
    "\n",
    "    # first derivative of utility function\n",
    "    def u_prime(self, c):\n",
    "\n",
    "        return c ** (-1)\n",
    "\n",
    "    def state_action_value(self, c, x, v_array):\n",
    "        \"\"\"\n",
    "        Right hand side of the Bellman equation given x and c.\n",
    "        \"\"\"\n",
    "\n",
    "        u, β = self.u, self.β\n",
    "        v = lambda x: interp(self.x_grid, v_array, x)\n",
    "\n",
    "        return u(c) + β * v(x - c)"
   ]
  },
  {
   "cell_type": "markdown",
   "metadata": {},
   "source": [
    "# Method of Successive Approximation\n",
    "### Iterating with the Bellman operator\n",
    "GOAL : To approximate the value function V by a sequence of successively better guess, denoted by $V^j$ at the stage $j$\n",
    "\n",
    "Procedure :\n",
    "1. stage 0 : Make an initial guess for $V$, denoted by $V^0$\n",
    "2. stage 1 : Construct a revised guess for $V$, denoted by $V^1$\n",
    "\n",
    "$$V^1(k) = \\max_{k'}\\ \\left\\{u(F(k)-k')+ \\beta V^0(k')\\right\\} $$\n",
    "...\n",
    "\n",
    "At stage $n+1$: Compute $V^{n+1}$ given $V^n$, as follows\n",
    "$$V^{n+1}(k) = \\max_{k'}\\ \\left\\{u(F(k)-k')+ \\beta V^n(k')\\right\\} $$\n",
    "\n",
    "\n",
    "This procedure can be represented much more compactly using operator notation\n",
    "$$V^{n+1} = TV^n$$"
   ]
  },
  {
   "cell_type": "code",
   "execution_count": 4,
   "metadata": {},
   "outputs": [],
   "source": [
    "def T(v, ce):\n",
    "    \"\"\"\n",
    "    The Bellman operator.  Updates the guess of the value function.\n",
    "\n",
    "    * ce is an instance of CakeEating\n",
    "    * v is an array representing a guess of the value function\n",
    "\n",
    "    \"\"\"\n",
    "    v_new = np.empty_like(v)\n",
    "\n",
    "    for i, x in enumerate(ce.x_grid):\n",
    "        # Maximize RHS of Bellman equation at state x\n",
    "        v_new[i] = maximize(ce.state_action_value, 1e-10, x,(x, v) )[1]\n",
    "\n",
    "    return v_new"
   ]
  },
  {
   "cell_type": "code",
   "execution_count": 5,
   "metadata": {},
   "outputs": [],
   "source": [
    "ce = CakeEating()"
   ]
  },
  {
   "cell_type": "code",
   "execution_count": 6,
   "metadata": {},
   "outputs": [],
   "source": [
    "x_grid = ce.x_grid\n",
    "v = ce.u(x_grid)       # Initial guess\n",
    "n = 12                 # Number of iterations"
   ]
  },
  {
   "cell_type": "code",
   "execution_count": 13,
   "metadata": {},
   "outputs": [
    {
     "data": {
      "text/plain": [
       "array([1.000e-03, 2.200e-02, 4.300e-02, 6.400e-02, 8.500e-02, 1.060e-01,\n",
       "       1.270e-01, 1.480e-01, 1.690e-01, 1.900e-01, 2.110e-01, 2.320e-01,\n",
       "       2.530e-01, 2.740e-01, 2.950e-01, 3.160e-01, 3.370e-01, 3.580e-01,\n",
       "       3.790e-01, 4.000e-01, 4.210e-01, 4.420e-01, 4.630e-01, 4.840e-01,\n",
       "       5.050e-01, 5.260e-01, 5.470e-01, 5.680e-01, 5.890e-01, 6.100e-01,\n",
       "       6.310e-01, 6.520e-01, 6.730e-01, 6.940e-01, 7.150e-01, 7.360e-01,\n",
       "       7.570e-01, 7.780e-01, 7.990e-01, 8.200e-01, 8.410e-01, 8.620e-01,\n",
       "       8.830e-01, 9.040e-01, 9.250e-01, 9.460e-01, 9.670e-01, 9.880e-01,\n",
       "       1.009e+00, 1.030e+00, 1.051e+00, 1.072e+00, 1.093e+00, 1.114e+00,\n",
       "       1.135e+00, 1.156e+00, 1.177e+00, 1.198e+00, 1.219e+00, 1.240e+00,\n",
       "       1.261e+00, 1.282e+00, 1.303e+00, 1.324e+00, 1.345e+00, 1.366e+00,\n",
       "       1.387e+00, 1.408e+00, 1.429e+00, 1.450e+00, 1.471e+00, 1.492e+00,\n",
       "       1.513e+00, 1.534e+00, 1.555e+00, 1.576e+00, 1.597e+00, 1.618e+00,\n",
       "       1.639e+00, 1.660e+00, 1.681e+00, 1.702e+00, 1.723e+00, 1.744e+00,\n",
       "       1.765e+00, 1.786e+00, 1.807e+00, 1.828e+00, 1.849e+00, 1.870e+00,\n",
       "       1.891e+00, 1.912e+00, 1.933e+00, 1.954e+00, 1.975e+00, 1.996e+00,\n",
       "       2.017e+00, 2.038e+00, 2.059e+00, 2.080e+00, 2.101e+00, 2.122e+00,\n",
       "       2.143e+00, 2.164e+00, 2.185e+00, 2.206e+00, 2.227e+00, 2.248e+00,\n",
       "       2.269e+00, 2.290e+00, 2.311e+00, 2.332e+00, 2.353e+00, 2.374e+00,\n",
       "       2.395e+00, 2.416e+00, 2.437e+00, 2.458e+00, 2.479e+00, 2.500e+00])"
      ]
     },
     "execution_count": 13,
     "metadata": {},
     "output_type": "execute_result"
    }
   ],
   "source": [
    "x_grid"
   ]
  },
  {
   "cell_type": "code",
   "execution_count": 8,
   "metadata": {},
   "outputs": [
    {
     "data": {
      "text/plain": [
       "array([-6.90775528, -3.81671283, -3.14655516, -2.7488722 , -2.46510402,\n",
       "       -2.24431618, -2.06356819, -1.91054301, -1.77785656, -1.66073121,\n",
       "       -1.55589715, -1.46101791, -1.37436579, -1.29462717, -1.22077992,\n",
       "       -1.15201307, -1.08767235, -1.02722229, -0.97021907, -0.91629073,\n",
       "       -0.86512245, -0.8164454 , -0.77002822, -0.72567037, -0.68319685,\n",
       "       -0.64245407, -0.60330648, -0.56563386, -0.5293291 , -0.49429632,\n",
       "       -0.46044942, -0.42771072, -0.39600995, -0.36528332, -0.33547274,\n",
       "       -0.30652516, -0.27839203, -0.25102875, -0.22439433, -0.19845094,\n",
       "       -0.17316362, -0.14850001, -0.12443008, -0.10092592, -0.07796154,\n",
       "       -0.05551271, -0.03355678, -0.01207258,  0.00895974,  0.0295588 ,\n",
       "        0.04974209,  0.06952606,  0.08892621,  0.10795714,  0.12663265,\n",
       "        0.14496577,  0.16296883,  0.1806535 ,  0.19803085,  0.21511138,\n",
       "        0.23190506,  0.24842136,  0.2646693 ,  0.28065746,  0.29639401,\n",
       "        0.31188676,  0.32714314,  0.34217026,  0.3569749 ,  0.37156356,\n",
       "        0.38594244,  0.4001175 ,  0.41409443,  0.4278787 ,  0.44147555,\n",
       "        0.45488999,  0.46812687,  0.48119082,  0.4940863 ,  0.5068176 ,\n",
       "        0.51938885,  0.53180403,  0.54406696,  0.55618133,  0.56815069,\n",
       "        0.57997848,  0.59166801,  0.60322247,  0.61464495,  0.62593843,\n",
       "        0.63710579,  0.64814981,  0.6590732 ,  0.66987855,  0.6805684 ,\n",
       "        0.69114518,  0.70161126,  0.71196893,  0.72222043,  0.73236789,\n",
       "        0.74241342,  0.75235904,  0.76220672,  0.77195836,  0.78161583,\n",
       "        0.79118092,  0.80065539,  0.81004093,  0.81933921,  0.82855182,\n",
       "        0.83768033,  0.84672627,  0.85569111,  0.8645763 ,  0.87338323,\n",
       "        0.88211328,  0.89076777,  0.89934801,  0.90785525,  0.91629073])"
      ]
     },
     "execution_count": 8,
     "metadata": {},
     "output_type": "execute_result"
    }
   ],
   "source": [
    "v"
   ]
  },
  {
   "cell_type": "code",
   "execution_count": 9,
   "metadata": {},
   "outputs": [
    {
     "data": {
      "image/png": "[encoded data removed]",
      "text/plain": [
       "<Figure size 432x288 with 1 Axes>"
      ]
     },
     "metadata": {
      "needs_background": "light"
     },
     "output_type": "display_data"
    }
   ],
   "source": [
    "x_grid = ce.x_grid\n",
    "v = ce.u(x_grid)       # Initial guess\n",
    "n = 12                 # Number of iterations\n",
    "\n",
    "fig, ax = plt.subplots()\n",
    "\n",
    "ax.plot(x_grid, v, color=plt.cm.jet(0),\n",
    "        lw=2, alpha=0.6, label='Initial guess')\n",
    "\n",
    "for i in range(n):\n",
    "    v = T(v, ce)  # Apply the Bellman operator\n",
    "    ax.plot(x_grid, v, color=plt.cm.jet(i / n), lw=2, alpha=0.6)\n",
    "\n",
    "ax.legend()\n",
    "ax.set_ylabel('value', fontsize=12)\n",
    "ax.set_xlabel('cake size $x$', fontsize=12)\n",
    "ax.set_title('Value function iterations')\n",
    "\n",
    "plt.show()"
   ]
  },
  {
   "cell_type": "markdown",
   "metadata": {},
   "source": [
    "# Compute Value Function"
   ]
  },
  {
   "cell_type": "code",
   "execution_count": 10,
   "metadata": {},
   "outputs": [],
   "source": [
    "def compute_value_function(ce,\n",
    "                           tol=1e-4,\n",
    "                           max_iter=1000,\n",
    "                           verbose=True,\n",
    "                           print_skip=25):\n",
    "\n",
    "    # Set up loop\n",
    "    v = np.zeros(len(ce.x_grid)) # Initial guess\n",
    "    i = 0\n",
    "    error = tol + 1\n",
    "\n",
    "    while i < max_iter and error > tol:\n",
    "        v_new = T(v, ce)\n",
    "\n",
    "        error = np.max(np.abs(v - v_new))\n",
    "        i += 1\n",
    "\n",
    "        if verbose and i % print_skip == 0:\n",
    "            print(f\"Error at iteration {i} is {error}.\")\n",
    "\n",
    "        v = v_new\n",
    "\n",
    "    if i == max_iter:\n",
    "        print(\"Failed to converge!\")\n",
    "\n",
    "    if verbose and i < max_iter:\n",
    "        print(f\"\\nConverged in {i} iterations.\")\n",
    "\n",
    "    return v_new"
   ]
  },
  {
   "cell_type": "code",
   "execution_count": 11,
   "metadata": {},
   "outputs": [
    {
     "name": "stdout",
     "output_type": "stream",
     "text": [
      "Error at iteration 25 is 2.595068129254571.\n",
      "Error at iteration 50 is 0.935254033806217.\n",
      "Error at iteration 75 is 0.3370624832119802.\n",
      "Error at iteration 100 is 0.12147621232560368.\n",
      "Error at iteration 125 is 0.04377979998575654.\n",
      "Error at iteration 150 is 0.015778321816000584.\n",
      "Error at iteration 175 is 0.005686609105907792.\n",
      "Error at iteration 200 is 0.0020495924617307537.\n",
      "Error at iteration 225 is 0.000738776779996897.\n",
      "Error at iteration 250 is 0.0002663327553165118.\n",
      "Error at iteration 275 is 9.622606630443897e-05.\n",
      "\n",
      "Converged in 275 iterations.\n"
     ]
    }
   ],
   "source": [
    "v = compute_value_function(ce)"
   ]
  },
  {
   "cell_type": "code",
   "execution_count": 12,
   "metadata": {},
   "outputs": [
    {
     "data": {
      "image/png": "[encoded data removed]",
      "text/plain": [
       "<Figure size 432x288 with 1 Axes>"
      ]
     },
     "metadata": {
      "needs_background": "light"
     },
     "output_type": "display_data"
    }
   ],
   "source": [
    "fig, ax = plt.subplots()\n",
    "\n",
    "ax.plot(x_grid, v, label='Approximate value function')\n",
    "ax.set_ylabel('$V(x)$', fontsize=12)\n",
    "ax.set_xlabel('$x$', fontsize=12)\n",
    "ax.set_title('Value function')\n",
    "ax.legend()\n",
    "plt.show()"
   ]
  },
  {
   "cell_type": "code",
   "execution_count": null,
   "metadata": {},
   "outputs": [],
   "source": []
  }
 ],
 "metadata": {
  "kernelspec": {
   "display_name": "Python 3",
   "language": "python",
   "name": "python3"
  },
  "language_info": {
   "codemirror_mode": {
    "name": "ipython",
    "version": 3
   },
   "file_extension": ".py",
   "mimetype": "text/x-python",
   "name": "python",
   "nbconvert_exporter": "python",
   "pygments_lexer": "ipython3",
   "version": "3.8.3"
  }
 },
 "nbformat": 4,
 "nbformat_minor": 4
}
